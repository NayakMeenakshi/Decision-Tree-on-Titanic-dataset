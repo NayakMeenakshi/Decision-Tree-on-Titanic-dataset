{
 "cells": [
  {
   "cell_type": "code",
   "execution_count": null,
   "metadata": {
    "scrolled": true
   },
   "outputs": [],
   "source": [
    "#Importing packages\n",
    "import pandas as pd\n",
    "import numpy as np\n",
    "import seaborn as sns\n",
    "import matplotlib.pyplot as plt\n",
    "#Importing datasets\n",
    "train = pd.read_csv(\"E:/Titanic Kaggle/train.csv\")\n",
    "test = pd.read_csv(\"E:/Titanic Kaggle/test.csv\")\n",
    "train.shape"
   ]
  },
  {
   "cell_type": "markdown",
   "metadata": {},
   "source": [
    "TRAINING DATA"
   ]
  },
  {
   "cell_type": "code",
   "execution_count": null,
   "metadata": {
    "scrolled": false
   },
   "outputs": [],
   "source": [
    "#checking for missing values\n",
    "train.isnull().sum()"
   ]
  },
  {
   "cell_type": "code",
   "execution_count": null,
   "metadata": {
    "collapsed": true
   },
   "outputs": [],
   "source": [
    "#replacing missing values with mean of the age column\n",
    "train['Age'].fillna(train['Age'].mean(), inplace = True)"
   ]
  },
  {
   "cell_type": "code",
   "execution_count": null,
   "metadata": {},
   "outputs": [],
   "source": [
    "#dropping cabin as it has more than 50% missing values\n",
    "del train['Cabin']\n",
    "train.isnull().sum()"
   ]
  },
  {
   "cell_type": "code",
   "execution_count": null,
   "metadata": {},
   "outputs": [],
   "source": [
    "#dropping rows with Null values for Emabrked\n",
    "train = train[train['Embarked'].notnull()]\n",
    "train.isnull().sum()\n",
    "train.head(10)"
   ]
  },
  {
   "cell_type": "code",
   "execution_count": null,
   "metadata": {
    "collapsed": true
   },
   "outputs": [],
   "source": [
    "#storing the cleaned data into train_titanic to be used later\n",
    "train_titanic = train"
   ]
  },
  {
   "cell_type": "code",
   "execution_count": null,
   "metadata": {
    "collapsed": true
   },
   "outputs": [],
   "source": [
    "#creating dummies for categorical values\n",
    "dummies = pd.get_dummies(train['Pclass']).rename(columns=lambda x: 'Pclass_' + str(x))\n",
    "train = pd.concat([train, dummies], axis=1)\n",
    "del train['Pclass']\n",
    "dummies = pd.get_dummies(train['Sex']).rename(columns=lambda x: 'Sex_' + str(x))\n",
    "train = pd.concat([train, dummies], axis=1)\n",
    "del train['Sex']\n",
    "dummies = pd.get_dummies(train['Embarked']).rename(columns=lambda x: 'Embarked_' + str(x))\n",
    "train = pd.concat([train, dummies], axis=1)\n",
    "del train['Embarked']"
   ]
  },
  {
   "cell_type": "code",
   "execution_count": null,
   "metadata": {
    "collapsed": true
   },
   "outputs": [],
   "source": [
    "train.drop(['Name','PassengerId','Ticket'], axis=1, inplace=True)"
   ]
  },
  {
   "cell_type": "code",
   "execution_count": null,
   "metadata": {
    "scrolled": true
   },
   "outputs": [],
   "source": [
    "#correlation between SibSp and Parch\n",
    "np.corrcoef(train['SibSp'],train['Parch'])"
   ]
  },
  {
   "cell_type": "markdown",
   "metadata": {},
   "source": [
    "TEST DATA"
   ]
  },
  {
   "cell_type": "code",
   "execution_count": null,
   "metadata": {},
   "outputs": [],
   "source": [
    "#checking for missing values\n",
    "test.isnull().sum()"
   ]
  },
  {
   "cell_type": "code",
   "execution_count": null,
   "metadata": {
    "collapsed": true
   },
   "outputs": [],
   "source": [
    "#replacing missing values with mean of the age column\n",
    "test['Age'].fillna(test['Age'].mean(), inplace = True)"
   ]
  },
  {
   "cell_type": "code",
   "execution_count": null,
   "metadata": {},
   "outputs": [],
   "source": [
    "#dropping cabin as it has more than 50% missing values\n",
    "del test['Cabin']\n",
    "del test['Fare']\n",
    "test.isnull().sum()"
   ]
  },
  {
   "cell_type": "code",
   "execution_count": null,
   "metadata": {},
   "outputs": [],
   "source": [
    "#creating dummies for categorical values\n",
    "dummies = pd.get_dummies(test['Pclass']).rename(columns=lambda x: 'Pclass_' + str(x))\n",
    "test = pd.concat([test, dummies], axis=1)\n",
    "del test['Pclass']\n",
    "dummies = pd.get_dummies(test['Sex']).rename(columns=lambda x: 'Sex_' + str(x))\n",
    "test = pd.concat([test, dummies], axis=1)\n",
    "del test['Sex']\n",
    "dummies = pd.get_dummies(test['Embarked']).rename(columns=lambda x: 'Embarked_' + str(x))\n",
    "test = pd.concat([test, dummies], axis=1)\n",
    "del test['Embarked']\n",
    "test.drop(['Name','PassengerId','Ticket'], axis=1, inplace=True)\n",
    "test.head(2)"
   ]
  },
  {
   "cell_type": "code",
   "execution_count": null,
   "metadata": {
    "collapsed": true
   },
   "outputs": [],
   "source": [
    "cols=[\"Age\",\"SibSp\",\"Parch\", \"Fare\", \"Pclass_1\", \"Pclass_2\",\"Pclass_3\",\"Sex_female\",\"Sex_male\",\n",
    "      \"Embarked_C\",\"Embarked_S\",\"Embarked_Q\"] \n",
    "X_train=train[cols]\n",
    "Y_train=train['Survived']\n",
    "X_test=train[cols]"
   ]
  },
  {
   "cell_type": "code",
   "execution_count": null,
   "metadata": {},
   "outputs": [],
   "source": [
    "#Decision Tree \n",
    "from sklearn import tree\n",
    "clf = tree.DecisionTreeClassifier(criterion = \"entropy\", random_state = 100,max_depth=3, min_samples_leaf=5)\n",
    "clf = clf.fit(X_train,Y_train)\n",
    "clf"
   ]
  },
  {
   "cell_type": "code",
   "execution_count": null,
   "metadata": {},
   "outputs": [],
   "source": [
    "#MODEL IS NEVER TESTED ON TRAINING SET. This step is for testing purpose only\n",
    "train_predict = clf.predict(X_train)\n",
    "train_predict\n",
    "print('Accuracy decision tree classifier on train set: {:.2f}'.format(clf.score(X_train,Y_train)))"
   ]
  },
  {
   "cell_type": "code",
   "execution_count": null,
   "metadata": {},
   "outputs": [],
   "source": [
    "#Prediction on test dataset\n",
    "y_predict = clf.predict(X_test)\n",
    "y_predict"
   ]
  },
  {
   "cell_type": "code",
   "execution_count": null,
   "metadata": {},
   "outputs": [],
   "source": [
    "#Final output file\n",
    "final = pd.DataFrame({\"PassengerId\": train_titanic['PassengerId'],\"Survived\": y_predict})\n",
    "final.to_csv('final_titanic.csv', index=False)"
   ]
  }
 ],
 "metadata": {
  "kernelspec": {
   "display_name": "Python 3",
   "language": "python",
   "name": "python3"
  },
  "language_info": {
   "codemirror_mode": {
    "name": "ipython",
    "version": 3
   },
   "file_extension": ".py",
   "mimetype": "text/x-python",
   "name": "python",
   "nbconvert_exporter": "python",
   "pygments_lexer": "ipython3",
   "version": "3.6.1"
  }
 },
 "nbformat": 4,
 "nbformat_minor": 2
}
